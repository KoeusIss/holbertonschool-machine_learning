{
  "nbformat": 4,
  "nbformat_minor": 0,
  "metadata": {
    "accelerator": "GPU",
    "colab": {
      "name": "forecast_btc.ipynb",
      "provenance": [],
      "collapsed_sections": [],
      "authorship_tag": "ABX9TyNauLnZSl1YxKFOnV9GcYYj",
      "include_colab_link": true
    },
    "kernelspec": {
      "display_name": "Python 3",
      "name": "python3"
    },
    "language_info": {
      "name": "python"
    }
  },
  "cells": [
    {
      "cell_type": "markdown",
      "metadata": {
        "id": "view-in-github",
        "colab_type": "text"
      },
      "source": [
        "<a href=\"https://colab.research.google.com/github/KoeusIss/holbertonschool-machine_learning/blob/main/supervised_learning/0x0E-time_series/forecast_btc.ipynb\" target=\"_parent\"><img src=\"https://colab.research.google.com/assets/colab-badge.svg\" alt=\"Open In Colab\"/></a>"
      ]
    },
    {
      "cell_type": "markdown",
      "metadata": {
        "id": "fMl78_fa8pqE"
      },
      "source": [
        "# Time Series Forecasting - Forecast Bitcoin\n"
      ]
    },
    {
      "cell_type": "markdown",
      "metadata": {
        "id": "AN9khzB79IuZ"
      },
      "source": [
        "## Setup"
      ]
    },
    {
      "cell_type": "code",
      "metadata": {
        "colab": {
          "base_uri": "https://localhost:8080/"
        },
        "id": "XjvL6eQWAy2B",
        "outputId": "04455fb0-f4d2-4b5a-f799-023f7906ce2d"
      },
      "source": [
        "# Connect with Google drive\n",
        "# -----------------------------------------------------------------------------\n",
        "\n",
        "from google.colab import drive\n",
        "drive.mount('/content/gdrive', force_remount=True)"
      ],
      "execution_count": 1,
      "outputs": [
        {
          "output_type": "stream",
          "text": [
            "Mounted at /content/gdrive\n"
          ],
          "name": "stdout"
        }
      ]
    },
    {
      "cell_type": "code",
      "metadata": {
        "id": "ADLiiD7Y9HPf"
      },
      "source": [
        "# Dependencies\n",
        "# -----------------------------------------------------------------------------\n",
        "\n",
        "import os\n",
        "import numpy as np\n",
        "import pandas as pd\n",
        "import matplotlib as mpl\n",
        "import tensorflow as tf\n",
        "import tensorflow.keras as K\n",
        "import matplotlib.pyplot as plt\n",
        "import seaborn as sn\n",
        "\n",
        "mpl.rcParams['figure.figsize'] = (12, 8)"
      ],
      "execution_count": 2,
      "outputs": []
    },
    {
      "cell_type": "code",
      "metadata": {
        "id": "7RS_IAOt9aWp"
      },
      "source": [
        "# Universal constant\n",
        "# -----------------------------------------------------------------------------\n",
        "\n",
        "BATCH_SIZE = 64\n",
        "MAX_EPOCHS = 20\n",
        "STEPS_PER_EPOCH = 1000\n",
        "VALIDATION_STEPS = 100\n",
        "INUPT_WIDTH = 24\n",
        "LABEL_WIDTH = 1\n",
        "STRIDE_WIDTH = 1\n",
        "BUFFER_SIZE = 10000\n",
        "\n",
        "# PS: Try to provide and fork dataset from this links\n",
        "# https://drive.google.com/file/d/1-2qi4aEYeMuvESgPemzWUgRhwZwmMOE8/view\n",
        "# https://drive.google.com/file/d/1-1k5W0hhJPCt7Kaxrw6ECsYcWxCiMdt7/view\n",
        "\n",
        "BITSTAMP_CSV = '/content/gdrive/MyDrive/Datasets/bitstampUSD_1-min_data_2012-01-01_to_2020-04-22.csv'\n",
        "COINBASE_CSV = '/content/gdrive/MyDrive/Datasets/coinbaseUSD_1-min_data_2014-12-01_to_2019-01-09.csv'"
      ],
      "execution_count": 3,
      "outputs": []
    },
    {
      "cell_type": "code",
      "metadata": {
        "id": "z6y9vS2P96Jv"
      },
      "source": [
        "# Extract dataframe from csv\n",
        "# -----------------------------------------------------------------------------\n",
        "\n",
        "bitstamp_df = pd.read_csv(BITSTAMP_CSV)\n",
        "coinbase_df = pd.read_csv(COINBASE_CSV)"
      ],
      "execution_count": 4,
      "outputs": []
    },
    {
      "cell_type": "markdown",
      "metadata": {
        "id": "Vk-1QnQTDqDN"
      },
      "source": [
        "## Data preprocessing\n",
        "We need to check the percentage of missing value per column, try to visualize dataframe. In addition the dataframe is windowed per 60 second so we need to recast for need by windowing hourly"
      ]
    },
    {
      "cell_type": "code",
      "metadata": {
        "colab": {
          "base_uri": "https://localhost:8080/",
          "height": 300
        },
        "id": "f4DyZSmk_FMk",
        "outputId": "6ae6d7c2-b030-4dde-ebf5-4bdfbc573741"
      },
      "source": [
        "bitstamp_df.describe().transpose()"
      ],
      "execution_count": 5,
      "outputs": [
        {
          "output_type": "execute_result",
          "data": {
            "text/html": [
              "<div>\n",
              "<style scoped>\n",
              "    .dataframe tbody tr th:only-of-type {\n",
              "        vertical-align: middle;\n",
              "    }\n",
              "\n",
              "    .dataframe tbody tr th {\n",
              "        vertical-align: top;\n",
              "    }\n",
              "\n",
              "    .dataframe thead th {\n",
              "        text-align: right;\n",
              "    }\n",
              "</style>\n",
              "<table border=\"1\" class=\"dataframe\">\n",
              "  <thead>\n",
              "    <tr style=\"text-align: right;\">\n",
              "      <th></th>\n",
              "      <th>count</th>\n",
              "      <th>mean</th>\n",
              "      <th>std</th>\n",
              "      <th>min</th>\n",
              "      <th>25%</th>\n",
              "      <th>50%</th>\n",
              "      <th>75%</th>\n",
              "      <th>max</th>\n",
              "    </tr>\n",
              "  </thead>\n",
              "  <tbody>\n",
              "    <tr>\n",
              "      <th>Timestamp</th>\n",
              "      <td>4363457.0</td>\n",
              "      <td>1.456469e+09</td>\n",
              "      <td>7.573296e+07</td>\n",
              "      <td>1.325318e+09</td>\n",
              "      <td>1.390770e+09</td>\n",
              "      <td>1.456610e+09</td>\n",
              "      <td>1.522062e+09</td>\n",
              "      <td>1.587514e+09</td>\n",
              "    </tr>\n",
              "    <tr>\n",
              "      <th>Open</th>\n",
              "      <td>3126480.0</td>\n",
              "      <td>3.674656e+03</td>\n",
              "      <td>3.935578e+03</td>\n",
              "      <td>3.800000e+00</td>\n",
              "      <td>4.100000e+02</td>\n",
              "      <td>1.175140e+03</td>\n",
              "      <td>6.931175e+03</td>\n",
              "      <td>1.966576e+04</td>\n",
              "    </tr>\n",
              "    <tr>\n",
              "      <th>High</th>\n",
              "      <td>3126480.0</td>\n",
              "      <td>3.677366e+03</td>\n",
              "      <td>3.939077e+03</td>\n",
              "      <td>3.800000e+00</td>\n",
              "      <td>4.102400e+02</td>\n",
              "      <td>1.175770e+03</td>\n",
              "      <td>6.935780e+03</td>\n",
              "      <td>1.966600e+04</td>\n",
              "    </tr>\n",
              "    <tr>\n",
              "      <th>Low</th>\n",
              "      <td>3126480.0</td>\n",
              "      <td>3.671730e+03</td>\n",
              "      <td>3.931713e+03</td>\n",
              "      <td>1.500000e+00</td>\n",
              "      <td>4.098300e+02</td>\n",
              "      <td>1.174825e+03</td>\n",
              "      <td>6.926790e+03</td>\n",
              "      <td>1.964996e+04</td>\n",
              "    </tr>\n",
              "    <tr>\n",
              "      <th>Close</th>\n",
              "      <td>3126480.0</td>\n",
              "      <td>3.674595e+03</td>\n",
              "      <td>3.935490e+03</td>\n",
              "      <td>1.500000e+00</td>\n",
              "      <td>4.100000e+02</td>\n",
              "      <td>1.175140e+03</td>\n",
              "      <td>6.931225e+03</td>\n",
              "      <td>1.966575e+04</td>\n",
              "    </tr>\n",
              "    <tr>\n",
              "      <th>Volume_(BTC)</th>\n",
              "      <td>3126480.0</td>\n",
              "      <td>9.855040e+00</td>\n",
              "      <td>3.229272e+01</td>\n",
              "      <td>0.000000e+00</td>\n",
              "      <td>3.988120e-01</td>\n",
              "      <td>1.990000e+00</td>\n",
              "      <td>7.639098e+00</td>\n",
              "      <td>5.853852e+03</td>\n",
              "    </tr>\n",
              "    <tr>\n",
              "      <th>Volume_(Currency)</th>\n",
              "      <td>3126480.0</td>\n",
              "      <td>2.884459e+04</td>\n",
              "      <td>1.010277e+05</td>\n",
              "      <td>0.000000e+00</td>\n",
              "      <td>3.503759e+02</td>\n",
              "      <td>2.620491e+03</td>\n",
              "      <td>1.760057e+04</td>\n",
              "      <td>7.569437e+06</td>\n",
              "    </tr>\n",
              "    <tr>\n",
              "      <th>Weighted_Price</th>\n",
              "      <td>3126480.0</td>\n",
              "      <td>3.674570e+03</td>\n",
              "      <td>3.935458e+03</td>\n",
              "      <td>3.800000e+00</td>\n",
              "      <td>4.099998e+02</td>\n",
              "      <td>1.175200e+03</td>\n",
              "      <td>6.931180e+03</td>\n",
              "      <td>1.966330e+04</td>\n",
              "    </tr>\n",
              "  </tbody>\n",
              "</table>\n",
              "</div>"
            ],
            "text/plain": [
              "                       count          mean  ...           75%           max\n",
              "Timestamp          4363457.0  1.456469e+09  ...  1.522062e+09  1.587514e+09\n",
              "Open               3126480.0  3.674656e+03  ...  6.931175e+03  1.966576e+04\n",
              "High               3126480.0  3.677366e+03  ...  6.935780e+03  1.966600e+04\n",
              "Low                3126480.0  3.671730e+03  ...  6.926790e+03  1.964996e+04\n",
              "Close              3126480.0  3.674595e+03  ...  6.931225e+03  1.966575e+04\n",
              "Volume_(BTC)       3126480.0  9.855040e+00  ...  7.639098e+00  5.853852e+03\n",
              "Volume_(Currency)  3126480.0  2.884459e+04  ...  1.760057e+04  7.569437e+06\n",
              "Weighted_Price     3126480.0  3.674570e+03  ...  6.931180e+03  1.966330e+04\n",
              "\n",
              "[8 rows x 8 columns]"
            ]
          },
          "metadata": {
            "tags": []
          },
          "execution_count": 5
        }
      ]
    },
    {
      "cell_type": "code",
      "metadata": {
        "colab": {
          "base_uri": "https://localhost:8080/"
        },
        "id": "OY-ApxCn_-VX",
        "outputId": "ebe224f1-36f6-4622-9381-9d70d005e0f5"
      },
      "source": [
        "# There is a big difference between the count of timestamp (raws) and the available value per column\n",
        "bitstamp_df.isna().sum()"
      ],
      "execution_count": 6,
      "outputs": [
        {
          "output_type": "execute_result",
          "data": {
            "text/plain": [
              "Timestamp                  0\n",
              "Open                 1236977\n",
              "High                 1236977\n",
              "Low                  1236977\n",
              "Close                1236977\n",
              "Volume_(BTC)         1236977\n",
              "Volume_(Currency)    1236977\n",
              "Weighted_Price       1236977\n",
              "dtype: int64"
            ]
          },
          "metadata": {
            "tags": []
          },
          "execution_count": 6
        }
      ]
    },
    {
      "cell_type": "code",
      "metadata": {
        "colab": {
          "base_uri": "https://localhost:8080/"
        },
        "id": "pOyhEIR7EijW",
        "outputId": "097ab6ae-c838-4e53-bb23-fce02e5f36e0"
      },
      "source": [
        "# In order to handle this missing value we use teh Forward Filling method in order to cast this missing value\n",
        "# I find this resource on Kaggle https://www.kaggle.com/juejuewang/handle-missing-values-in-time-series-for-beginners\n",
        "df = bitstamp_df.ffill()\n",
        "df.isna().sum()"
      ],
      "execution_count": 7,
      "outputs": [
        {
          "output_type": "execute_result",
          "data": {
            "text/plain": [
              "Timestamp            0\n",
              "Open                 0\n",
              "High                 0\n",
              "Low                  0\n",
              "Close                0\n",
              "Volume_(BTC)         0\n",
              "Volume_(Currency)    0\n",
              "Weighted_Price       0\n",
              "dtype: int64"
            ]
          },
          "metadata": {
            "tags": []
          },
          "execution_count": 7
        }
      ]
    },
    {
      "cell_type": "code",
      "metadata": {
        "id": "64ZAeVKiFdNt"
      },
      "source": [
        "# let's drop the Timestamp column\n",
        "date_time = pd.to_datetime(df.pop('Timestamp'), unit='s')"
      ],
      "execution_count": 8,
      "outputs": []
    },
    {
      "cell_type": "code",
      "metadata": {
        "id": "NKjrF8awFyfN"
      },
      "source": [
        "# Convert out dataframe to be hourly windowed instead of minutes with a shift by 8 row\n",
        "df = df[8::60]\n",
        "date_time = date_time[8::60]"
      ],
      "execution_count": 9,
      "outputs": []
    },
    {
      "cell_type": "code",
      "metadata": {
        "colab": {
          "base_uri": "https://localhost:8080/",
          "height": 572
        },
        "id": "PaVF6s8SGBCN",
        "outputId": "b388da7d-33e8-46af-9ebe-58289ef8b065"
      },
      "source": [
        "# Data correlation\n",
        "# -----------------------------------------------------------------------------\n",
        "correlation_matrix = df.corr()\n",
        "plt.figure(figsize=(12, 8))\n",
        "sn.heatmap(correlation_matrix, annot=True)\n",
        "plt.show()"
      ],
      "execution_count": 10,
      "outputs": [
        {
          "output_type": "display_data",
          "data": {
            "image/png": "[encoded data removed]",
            "text/plain": [
              "<Figure size 864x576 with 2 Axes>"
            ]
          },
          "metadata": {
            "tags": [],
            "needs_background": "light"
          }
        }
      ]
    },
    {
      "cell_type": "markdown",
      "metadata": {
        "id": "t-87bdrOGfvT"
      },
      "source": [
        "**Observation**\n",
        "* There are a fully correlated Features which make working of the full features a redundant process"
      ]
    },
    {
      "cell_type": "code",
      "metadata": {
        "id": "xc30qn__GYs8"
      },
      "source": [
        "# Droping none relevant features\n",
        "df.drop(['Open', 'High', 'Low', 'Close'], axis=1, inplace=True)"
      ],
      "execution_count": 11,
      "outputs": []
    },
    {
      "cell_type": "code",
      "metadata": {
        "colab": {
          "base_uri": "https://localhost:8080/",
          "height": 466
        },
        "id": "Fn7-bSdDG-jF",
        "outputId": "b4970d2b-b4f4-4199-a0fc-f1c7808746a3"
      },
      "source": [
        "# Visualizing data\n",
        "# -----------------------------------------------------------------------------\n",
        "\n",
        "plot_cols = df.columns.to_list()\n",
        "plot_features = df[plot_cols]\n",
        "plot_features.index = date_time\n",
        "_ = plot_features.plot(subplots=True)\n"
      ],
      "execution_count": 12,
      "outputs": [
        {
          "output_type": "display_data",
          "data": {
            "image/png": "[encoded data removed]",
            "text/plain": [
              "<Figure size 864x576 with 3 Axes>"
            ]
          },
          "metadata": {
            "tags": [],
            "needs_background": "light"
          }
        }
      ]
    },
    {
      "cell_type": "code",
      "metadata": {
        "id": "J24CIg_Xtj1Q"
      },
      "source": [
        "# Split data\n",
        "# -----------------------------------------------------------------------------\n",
        "\n",
        "n = len(df)\n",
        "train_split = int(n * 0.8)\n",
        "\n",
        "train_df = df[:train_split]\n",
        "valid_df = df[train_split:]"
      ],
      "execution_count": 13,
      "outputs": []
    },
    {
      "cell_type": "code",
      "metadata": {
        "id": "Q-sOqgaXH7uu"
      },
      "source": [
        "# Normalization\n",
        "# -----------------------------------------------------------------------------\n",
        "\n",
        "train_mean = train_df.mean()\n",
        "train_std = train_df.std()\n",
        "\n",
        "train_df = (train_df - train_mean) / train_std\n",
        "valid_df = (valid_df - train_mean) / train_std"
      ],
      "execution_count": 14,
      "outputs": []
    },
    {
      "cell_type": "code",
      "metadata": {
        "id": "z2BawJfXIqPa"
      },
      "source": [
        "# Split to window\n",
        "# -----------------------------------------------------------------------------\n",
        "\n",
        "def split_window(dataframe):\n",
        "  input_slice = slice(0, INUPT_WIDTH)\n",
        "  labels_slice = slice(INUPT_WIDTH, None)\n",
        "\n",
        "  inputs = dataframe[:, input_slice, :]\n",
        "  labels = dataframe[:, labels_slice, :]\n",
        "\n",
        "  labels = labels[:, :, -1:]\n",
        "\n",
        "  inputs.set_shape([None, INUPT_WIDTH, None])\n",
        "  labels.set_shape([None, LABEL_WIDTH, None])\n",
        "\n",
        "  return inputs, labels"
      ],
      "execution_count": 15,
      "outputs": []
    },
    {
      "cell_type": "code",
      "metadata": {
        "id": "OMzPATsyhLFc"
      },
      "source": [
        "# Build datasets\n",
        "# -----------------------------------------------------------------------------\n",
        "\n",
        "def make_dataset(data):\n",
        "  data = np.array(data, dtype=np.float32)\n",
        "  ds = tf.keras.preprocessing.timeseries_dataset_from_array(\n",
        "      data=data,\n",
        "      targets=None,\n",
        "      sequence_length=INUPT_WIDTH + LABEL_WIDTH,\n",
        "      sequence_stride=1,\n",
        "      shuffle=True,\n",
        "      batch_size=BATCH_SIZE\n",
        "  )\n",
        "\n",
        "\n",
        "  ds = ds.map(split_window)\n",
        "\n",
        "  return ds"
      ],
      "execution_count": 16,
      "outputs": []
    },
    {
      "cell_type": "code",
      "metadata": {
        "id": "IKhUh9ZoP5Bu"
      },
      "source": [
        "# Create train and validation datasets\n",
        "\n",
        "train_ds = make_dataset(train_df)\n",
        "valid_ds = make_dataset(valid_df)"
      ],
      "execution_count": 17,
      "outputs": []
    },
    {
      "cell_type": "code",
      "metadata": {
        "id": "Pf_PsmiiRGpF"
      },
      "source": [
        "# Compile and fit model\n",
        "# -----------------------------------------------------------------------------\n",
        "def compile_and_fit(model, train_ds, valid_ds, patience=2):\n",
        "  early_stopping = tf.keras.callbacks.EarlyStopping(\n",
        "    monitor='val_loss',\n",
        "    patience=patience,\n",
        "    mode='min'\n",
        "  )\n",
        "\n",
        "  model.compile(\n",
        "    loss=tf.losses.MeanSquaredError(),\n",
        "    optimizer=tf.optimizers.Adam(),\n",
        "    metrics=[tf.metrics.MeanAbsoluteError()]\n",
        "  )\n",
        "\n",
        "  history = model.fit(\n",
        "    train_ds,\n",
        "    epochs=MAX_EPOCHS,\n",
        "    validation_data=valid_ds,\n",
        "    callbacks=[early_stopping]\n",
        "  )\n",
        "  return history"
      ],
      "execution_count": 18,
      "outputs": []
    },
    {
      "cell_type": "code",
      "metadata": {
        "id": "HFMRer3TRngO"
      },
      "source": [
        "# Build RNN module using LSTM Gate\n",
        "\n",
        "lstm_model = K.models.Sequential([\n",
        "    K.layers.LSTM(64, return_sequences=False),\n",
        "    K.layers.Dense(units=1)\n",
        "])"
      ],
      "execution_count": 19,
      "outputs": []
    },
    {
      "cell_type": "code",
      "metadata": {
        "colab": {
          "base_uri": "https://localhost:8080/"
        },
        "id": "V_kBL9uzT1gl",
        "outputId": "624d3385-6239-43d2-b500-2cad122490e4"
      },
      "source": [
        "# Train model\n",
        "\n",
        "history = compile_and_fit(lstm_model, train_ds, valid_ds)"
      ],
      "execution_count": 20,
      "outputs": [
        {
          "output_type": "stream",
          "text": [
            "Epoch 1/20\n",
            "909/909 [==============================] - 12s 9ms/step - loss: 0.0487 - mean_absolute_error: 0.0652 - val_loss: 0.0014 - val_mean_absolute_error: 0.0219\n",
            "Epoch 2/20\n",
            "909/909 [==============================] - 7s 8ms/step - loss: 8.7686e-04 - mean_absolute_error: 0.0121 - val_loss: 0.0030 - val_mean_absolute_error: 0.0450\n",
            "Epoch 3/20\n",
            "909/909 [==============================] - 7s 8ms/step - loss: 6.2861e-04 - mean_absolute_error: 0.0107 - val_loss: 0.0025 - val_mean_absolute_error: 0.0418\n"
          ],
          "name": "stdout"
        }
      ]
    },
    {
      "cell_type": "code",
      "metadata": {
        "colab": {
          "base_uri": "https://localhost:8080/"
        },
        "id": "DyrKKjGYOPSV",
        "outputId": "a135bbe5-bdc7-43c2-87d5-a8b03bb1255f"
      },
      "source": [
        "lstm_model.summary()"
      ],
      "execution_count": 21,
      "outputs": [
        {
          "output_type": "stream",
          "text": [
            "Model: \"sequential\"\n",
            "_________________________________________________________________\n",
            "Layer (type)                 Output Shape              Param #   \n",
            "=================================================================\n",
            "lstm (LSTM)                  (None, 64)                17408     \n",
            "_________________________________________________________________\n",
            "dense (Dense)                (None, 1)                 65        \n",
            "=================================================================\n",
            "Total params: 17,473\n",
            "Trainable params: 17,473\n",
            "Non-trainable params: 0\n",
            "_________________________________________________________________\n"
          ],
          "name": "stdout"
        }
      ]
    },
    {
      "cell_type": "code",
      "metadata": {
        "colab": {
          "base_uri": "https://localhost:8080/",
          "height": 483
        },
        "id": "KvCt9QPJ9-oQ",
        "outputId": "6d70757f-cf58-419f-bbc5-604339079d79"
      },
      "source": [
        "# Plotting prediction\n",
        "# -----------------------------------------------------------------------------\n",
        "\n",
        "for b, (x, y) in enumerate(train_ds.take(3)):\n",
        "  plt.subplot(3, 1, b+1)\n",
        "  plt.plot(list(range(24)), x[b, :, -1])\n",
        "  plt.plot(24, y[b].numpy(), 'r*')\n",
        "  plt.plot(24, lstm_model.predict(x)[b], 'bs')"
      ],
      "execution_count": 22,
      "outputs": [
        {
          "output_type": "display_data",
          "data": {
            "image/png": "[encoded data removed]",
            "text/plain": [
              "<Figure size 864x576 with 3 Axes>"
            ]
          },
          "metadata": {
            "tags": [],
            "needs_background": "light"
          }
        }
      ]
    },
    {
      "cell_type": "code",
      "metadata": {
        "id": "BYyGochIs62H"
      },
      "source": [
        ""
      ],
      "execution_count": 22,
      "outputs": []
    }
  ]
}